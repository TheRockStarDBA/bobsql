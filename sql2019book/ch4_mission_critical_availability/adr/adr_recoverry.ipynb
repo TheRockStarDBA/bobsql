{
    "metadata": {
        "kernelspec": {
            "name": "SQL",
            "display_name": "SQL",
            "language": "sql"
        },
        "language_info": {
            "name": "sql",
            "version": ""
        }
    },
    "nbformat_minor": 2,
    "nbformat": 4,
    "cells": [
        {
            "cell_type": "markdown",
            "source": "# Accelerated Database Recovery\r\n",
            "metadata": {}
        },
        {
            "cell_type": "markdown",
            "source": "## Step 1: Setup the database\r\nCreate a database and put a bunch of rows in a table",
            "metadata": {}
        },
        {
            "cell_type": "code",
            "source": "-- Step 1: Setup the database\r\nUSE master\r\nGO\r\nDROP DATABASE IF EXISTS gocowboys\r\nGO\r\nCREATE DATABASE gocowboys\r\nON PRIMARY\r\n(NAME = N'gocowboys_primary', FILENAME = 'c:\\data\\gocowboys.mdf', SIZE = 10Gb , MAXSIZE = UNLIMITED, FILEGROWTH = 65536KB)\r\nLOG ON \r\n(NAME = N'gocowboys_Log', FILENAME = 'c:\\data\\gocowboys_log.ldf', SIZE = 10Gb , MAXSIZE = UNLIMITED , FILEGROWTH = 65536KB)\r\nGO\r\nALTER DATABASE gocowboys SET RECOVERY SIMPLE\r\nGO\r\nUSE gocowboys\r\nGO\r\nDROP TABLE IF EXISTS howboutthemcowboys\r\nGO\r\nCREATE TABLE howboutthemcowboys (playerid int primary key clustered, playername char(7000) not null)\r\nGO\r\nSET NOCOUNT ON\r\nGO\r\nBEGIN TRAN\r\nDECLARE @x int\r\nSET @x = 0\r\nWHILE (@x < 100000)\r\nBEGIN\r\n\tINSERT INTO howboutthemcowboys VALUES (@x, 'Jason Whitten returns in 2019')\r\n\tSET @x = @x + 1\r\nEND\r\nCOMMIT TRAN\r\nGO\r\nSET NOCOUNT OFF\r\nGO\r\nUSE master\r\nGO",
            "metadata": {},
            "outputs": [
                {
                    "output_type": "display_data",
                    "data": {
                        "text/html": "Commands completed successfully."
                    },
                    "metadata": {}
                },
                {
                    "output_type": "display_data",
                    "data": {
                        "text/html": "Commands completed successfully."
                    },
                    "metadata": {}
                },
                {
                    "output_type": "display_data",
                    "data": {
                        "text/html": "Commands completed successfully."
                    },
                    "metadata": {}
                },
                {
                    "output_type": "display_data",
                    "data": {
                        "text/html": "Commands completed successfully."
                    },
                    "metadata": {}
                },
                {
                    "output_type": "display_data",
                    "data": {
                        "text/html": "Commands completed successfully."
                    },
                    "metadata": {}
                },
                {
                    "output_type": "display_data",
                    "data": {
                        "text/html": "Commands completed successfully."
                    },
                    "metadata": {}
                },
                {
                    "output_type": "display_data",
                    "data": {
                        "text/html": "Commands completed successfully."
                    },
                    "metadata": {}
                },
                {
                    "output_type": "display_data",
                    "data": {
                        "text/html": "Commands completed successfully."
                    },
                    "metadata": {}
                },
                {
                    "output_type": "display_data",
                    "data": {
                        "text/html": "Commands completed successfully."
                    },
                    "metadata": {}
                },
                {
                    "output_type": "display_data",
                    "data": {
                        "text/html": "Commands completed successfully."
                    },
                    "metadata": {}
                },
                {
                    "output_type": "display_data",
                    "data": {
                        "text/html": "Commands completed successfully."
                    },
                    "metadata": {}
                },
                {
                    "output_type": "display_data",
                    "data": {
                        "text/html": "Total execution time: 00:00:19.018"
                    },
                    "metadata": {}
                }
            ],
            "execution_count": 1
        },
        {
            "cell_type": "markdown",
            "source": "## Step 2: Delete all the rows in the table\r\nDelete all the rows in the table in a user defined transaction",
            "metadata": {}
        },
        {
            "cell_type": "code",
            "source": "-- Step 2: Delete all the rows in the table in a user defined transaction\r\n-- Make sure ADR is OFF\r\nUSE master\r\nGO\r\nALTER DATABASE gocowboys SET ACCELERATED_DATABASE_RECOVERY = OFF\r\nGO\r\n-- Try to delete a bunch of rows\r\nUSE gocowboys\r\nGO\r\nBEGIN TRAN\r\nDELETE from howboutthemcowboys\r\nGO",
            "metadata": {},
            "outputs": [
                {
                    "output_type": "display_data",
                    "data": {
                        "text/html": "Commands completed successfully."
                    },
                    "metadata": {}
                },
                {
                    "output_type": "display_data",
                    "data": {
                        "text/html": "Commands completed successfully."
                    },
                    "metadata": {}
                },
                {
                    "output_type": "display_data",
                    "data": {
                        "text/html": "Commands completed successfully."
                    },
                    "metadata": {}
                },
                {
                    "output_type": "display_data",
                    "data": {
                        "text/html": "(100000 rows affected)"
                    },
                    "metadata": {}
                },
                {
                    "output_type": "display_data",
                    "data": {
                        "text/html": "Total execution time: 00:00:05.022"
                    },
                    "metadata": {}
                }
            ],
            "execution_count": 2
        },
        {
            "cell_type": "markdown",
            "source": "## Step 3: Check how much transaction log space is used",
            "metadata": {}
        },
        {
            "cell_type": "code",
            "source": "-- Step 3: How much transaction log space is used\r\n-- What is the log space usage\r\nSELECT * FROM sys.dm_db_log_space_usage\r\nGO",
            "metadata": {},
            "outputs": [
                {
                    "output_type": "display_data",
                    "data": {
                        "text/html": "(1 row affected)"
                    },
                    "metadata": {}
                },
                {
                    "output_type": "display_data",
                    "data": {
                        "text/html": "Total execution time: 00:00:00.149"
                    },
                    "metadata": {}
                },
                {
                    "output_type": "execute_result",
                    "metadata": {},
                    "execution_count": 3,
                    "data": {
                        "application/vnd.dataresource+json": {
                            "schema": {
                                "fields": [
                                    {
                                        "name": "database_id"
                                    },
                                    {
                                        "name": "total_log_size_in_bytes"
                                    },
                                    {
                                        "name": "used_log_space_in_bytes"
                                    },
                                    {
                                        "name": "used_log_space_in_percent"
                                    },
                                    {
                                        "name": "log_space_in_bytes_since_last_backup"
                                    }
                                ]
                            },
                            "data": [
                                {
                                    "0": "6",
                                    "1": "10737410048",
                                    "2": "4223913984",
                                    "3": "39.33829",
                                    "4": "1097400320"
                                }
                            ]
                        },
                        "text/html": "<table><tr><th>database_id</th><th>total_log_size_in_bytes</th><th>used_log_space_in_bytes</th><th>used_log_space_in_percent</th><th>log_space_in_bytes_since_last_backup</th></tr><tr><td>6</td><td>10737410048</td><td>4223913984</td><td>39.33829</td><td>1097400320</td></tr></table>"
                    }
                }
            ],
            "execution_count": 3
        },
        {
            "cell_type": "markdown",
            "source": "## Step 4: Does a checkpoint truncate the transaction log?\r\nCompare the used_log_space_in_percent to the value from the previous step",
            "metadata": {}
        },
        {
            "cell_type": "code",
            "source": "-- Step 4: Does checkpoint truncate the log?\r\nCHECKPOINT\r\nGO\r\nSELECT * FROM sys.dm_db_log_space_usage\r\ngo",
            "metadata": {},
            "outputs": [
                {
                    "output_type": "display_data",
                    "data": {
                        "text/html": "Commands completed successfully."
                    },
                    "metadata": {}
                },
                {
                    "output_type": "display_data",
                    "data": {
                        "text/html": "(1 row affected)"
                    },
                    "metadata": {}
                },
                {
                    "output_type": "display_data",
                    "data": {
                        "text/html": "Total execution time: 00:00:00.083"
                    },
                    "metadata": {}
                },
                {
                    "output_type": "execute_result",
                    "metadata": {},
                    "execution_count": 4,
                    "data": {
                        "application/vnd.dataresource+json": {
                            "schema": {
                                "fields": [
                                    {
                                        "name": "database_id"
                                    },
                                    {
                                        "name": "total_log_size_in_bytes"
                                    },
                                    {
                                        "name": "used_log_space_in_bytes"
                                    },
                                    {
                                        "name": "used_log_space_in_percent"
                                    },
                                    {
                                        "name": "log_space_in_bytes_since_last_backup"
                                    }
                                ]
                            },
                            "data": [
                                {
                                    "0": "6",
                                    "1": "10737410048",
                                    "2": "4224032768",
                                    "3": "39.3394",
                                    "4": "1000140800"
                                }
                            ]
                        },
                        "text/html": "<table><tr><th>database_id</th><th>total_log_size_in_bytes</th><th>used_log_space_in_bytes</th><th>used_log_space_in_percent</th><th>log_space_in_bytes_since_last_backup</th></tr><tr><td>6</td><td>10737410048</td><td>4224032768</td><td>39.3394</td><td>1000140800</td></tr></table>"
                    }
                }
            ],
            "execution_count": 4
        },
        {
            "cell_type": "markdown",
            "source": "## Step 5: How long does it take to rollback all the deletes\r\nTry to rollback the transation and measure the time it takes",
            "metadata": {}
        },
        {
            "cell_type": "code",
            "source": "-- Step 5: Try to roll it back and measure the time\r\nROLLBACK TRAN\r\nGO",
            "metadata": {},
            "outputs": [
                {
                    "output_type": "display_data",
                    "data": {
                        "text/html": "Commands completed successfully."
                    },
                    "metadata": {}
                },
                {
                    "output_type": "display_data",
                    "data": {
                        "text/html": "Total execution time: 00:00:15.594"
                    },
                    "metadata": {}
                }
            ],
            "execution_count": 21
        },
        {
            "cell_type": "markdown",
            "source": "## Step 6: What is the log space usage before and after a CHECKPOINT\r\nCheck transaction log space usage before and after a checkpoint. This shows how an active transaction holds up log truncation.",
            "metadata": {}
        },
        {
            "cell_type": "code",
            "source": "-- Step 6: What is the log space usage\r\nSELECT * FROM sys.dm_db_log_space_usage\r\nGO\r\n\r\n-- Does checkpoint truncate the log?\r\nCHECKPOINT\r\nGO\r\nSELECT * FROM sys.dm_db_log_space_usage\r\ngo",
            "metadata": {},
            "outputs": [
                {
                    "output_type": "display_data",
                    "data": {
                        "text/html": "(1 row affected)"
                    },
                    "metadata": {}
                },
                {
                    "output_type": "display_data",
                    "data": {
                        "text/html": "Total execution time: 00:00:00.0163236"
                    },
                    "metadata": {}
                },
                {
                    "output_type": "execute_result",
                    "execution_count": 22,
                    "data": {
                        "application/vnd.dataresource+json": {
                            "schema": {
                                "fields": [
                                    {
                                        "name": "database_id"
                                    },
                                    {
                                        "name": "total_log_size_in_bytes"
                                    },
                                    {
                                        "name": "used_log_space_in_bytes"
                                    },
                                    {
                                        "name": "used_log_space_in_percent"
                                    },
                                    {
                                        "name": "log_space_in_bytes_since_last_backup"
                                    }
                                ]
                            },
                            "data": [
                                {
                                    "0": "10",
                                    "1": "10737410048",
                                    "2": "4401008640",
                                    "3": "40.98762",
                                    "4": "1876959232"
                                }
                            ]
                        },
                        "text/html": "<table><tr><th>database_id</th><th>total_log_size_in_bytes</th><th>used_log_space_in_bytes</th><th>used_log_space_in_percent</th><th>log_space_in_bytes_since_last_backup</th></tr><tr><td>10</td><td>10737410048</td><td>4401008640</td><td>40.98762</td><td>1876959232</td></tr></table>"
                    },
                    "metadata": {}
                },
                {
                    "output_type": "display_data",
                    "data": {
                        "text/html": "Commands completed successfully."
                    },
                    "metadata": {}
                },
                {
                    "output_type": "display_data",
                    "data": {
                        "text/html": "Total execution time: 00:00:00.2831751"
                    },
                    "metadata": {}
                },
                {
                    "output_type": "display_data",
                    "data": {
                        "text/html": "(1 row affected)"
                    },
                    "metadata": {}
                },
                {
                    "output_type": "display_data",
                    "data": {
                        "text/html": "Total execution time: 00:00:00.0112435"
                    },
                    "metadata": {}
                },
                {
                    "output_type": "execute_result",
                    "execution_count": 22,
                    "data": {
                        "application/vnd.dataresource+json": {
                            "schema": {
                                "fields": [
                                    {
                                        "name": "database_id"
                                    },
                                    {
                                        "name": "total_log_size_in_bytes"
                                    },
                                    {
                                        "name": "used_log_space_in_bytes"
                                    },
                                    {
                                        "name": "used_log_space_in_percent"
                                    },
                                    {
                                        "name": "log_space_in_bytes_since_last_backup"
                                    }
                                ]
                            },
                            "data": [
                                {
                                    "0": "10",
                                    "1": "10737410048",
                                    "2": "66273280",
                                    "3": "0.6172185",
                                    "4": "94208"
                                }
                            ]
                        },
                        "text/html": "<table><tr><th>database_id</th><th>total_log_size_in_bytes</th><th>used_log_space_in_bytes</th><th>used_log_space_in_percent</th><th>log_space_in_bytes_since_last_backup</th></tr><tr><td>10</td><td>10737410048</td><td>66273280</td><td>0.6172185</td><td>94208</td></tr></table>"
                    },
                    "metadata": {}
                }
            ],
            "execution_count": 22
        },
        {
            "cell_type": "markdown",
            "source": "## Step 7: Turn on Accelerated Database Recovery",
            "metadata": {}
        },
        {
            "cell_type": "code",
            "source": "-- Step 7: Enable Accelerated Database Recovery\r\nUSE master\r\nGO\r\nALTER DATABASE gocowboys SET ACCELERATED_DATABASE_RECOVERY = ON\r\nGO",
            "metadata": {},
            "outputs": [
                {
                    "output_type": "display_data",
                    "data": {
                        "text/html": "Commands completed successfully."
                    },
                    "metadata": {}
                },
                {
                    "output_type": "display_data",
                    "data": {
                        "text/html": "Total execution time: 00:00:00.0014138"
                    },
                    "metadata": {}
                },
                {
                    "output_type": "display_data",
                    "data": {
                        "text/html": "Commands completed successfully."
                    },
                    "metadata": {}
                },
                {
                    "output_type": "display_data",
                    "data": {
                        "text/html": "Total execution time: 00:00:00.0192079"
                    },
                    "metadata": {}
                }
            ],
            "execution_count": 23
        },
        {
            "cell_type": "markdown",
            "source": "## Step 8: Try the delete again and check log space usage",
            "metadata": {}
        },
        {
            "cell_type": "code",
            "source": "-- Step 8: Try deleting all the rows in the table and look at log space usage before and after a CHECKPOINT\r\n-- Try to delete a bunch of rows in a transaction\r\nUSE gocowboys\r\nGO\r\nBEGIN TRAN\r\nDELETE from howboutthemcowboys\r\nGO\r\n\r\n-- What is the log space usage\r\nSELECT * FROM sys.dm_db_log_space_usage\r\nGO\r\nCHECKPOINT\r\nGO\r\nSELECT * FROM sys.dm_db_log_space_usage\r\nGO",
            "metadata": {},
            "outputs": [
                {
                    "output_type": "display_data",
                    "data": {
                        "text/html": "Commands completed successfully."
                    },
                    "metadata": {}
                },
                {
                    "output_type": "display_data",
                    "data": {
                        "text/html": "Total execution time: 00:00:00.0013823"
                    },
                    "metadata": {}
                },
                {
                    "output_type": "display_data",
                    "data": {
                        "text/html": "(100000 rows affected)"
                    },
                    "metadata": {}
                },
                {
                    "output_type": "display_data",
                    "data": {
                        "text/html": "Total execution time: 00:00:02.1115536"
                    },
                    "metadata": {}
                },
                {
                    "output_type": "display_data",
                    "data": {
                        "text/html": "(1 row affected)"
                    },
                    "metadata": {}
                },
                {
                    "output_type": "display_data",
                    "data": {
                        "text/html": "Total execution time: 00:00:00.0189068"
                    },
                    "metadata": {}
                },
                {
                    "output_type": "display_data",
                    "data": {
                        "text/html": "Commands completed successfully."
                    },
                    "metadata": {}
                },
                {
                    "output_type": "display_data",
                    "data": {
                        "text/html": "Total execution time: 00:00:00.0824323"
                    },
                    "metadata": {}
                },
                {
                    "output_type": "display_data",
                    "data": {
                        "text/html": "(1 row affected)"
                    },
                    "metadata": {}
                },
                {
                    "output_type": "display_data",
                    "data": {
                        "text/html": "Total execution time: 00:00:00.0131580"
                    },
                    "metadata": {}
                },
                {
                    "output_type": "execute_result",
                    "execution_count": 24,
                    "data": {
                        "application/vnd.dataresource+json": {
                            "schema": {
                                "fields": [
                                    {
                                        "name": "database_id"
                                    },
                                    {
                                        "name": "total_log_size_in_bytes"
                                    },
                                    {
                                        "name": "used_log_space_in_bytes"
                                    },
                                    {
                                        "name": "used_log_space_in_percent"
                                    },
                                    {
                                        "name": "log_space_in_bytes_since_last_backup"
                                    }
                                ]
                            },
                            "data": [
                                {
                                    "0": "10",
                                    "1": "10737410048",
                                    "2": "1057198080",
                                    "3": "9.845932",
                                    "4": "768376832"
                                }
                            ]
                        },
                        "text/html": "<table><tr><th>database_id</th><th>total_log_size_in_bytes</th><th>used_log_space_in_bytes</th><th>used_log_space_in_percent</th><th>log_space_in_bytes_since_last_backup</th></tr><tr><td>10</td><td>10737410048</td><td>1057198080</td><td>9.845932</td><td>768376832</td></tr></table>"
                    },
                    "metadata": {}
                },
                {
                    "output_type": "execute_result",
                    "execution_count": 24,
                    "data": {
                        "application/vnd.dataresource+json": {
                            "schema": {
                                "fields": [
                                    {
                                        "name": "database_id"
                                    },
                                    {
                                        "name": "total_log_size_in_bytes"
                                    },
                                    {
                                        "name": "used_log_space_in_bytes"
                                    },
                                    {
                                        "name": "used_log_space_in_percent"
                                    },
                                    {
                                        "name": "log_space_in_bytes_since_last_backup"
                                    }
                                ]
                            },
                            "data": [
                                {
                                    "0": "10",
                                    "1": "10737410048",
                                    "2": "386236416",
                                    "3": "3.59711",
                                    "4": "90112"
                                }
                            ]
                        },
                        "text/html": "<table><tr><th>database_id</th><th>total_log_size_in_bytes</th><th>used_log_space_in_bytes</th><th>used_log_space_in_percent</th><th>log_space_in_bytes_since_last_backup</th></tr><tr><td>10</td><td>10737410048</td><td>386236416</td><td>3.59711</td><td>90112</td></tr></table>"
                    },
                    "metadata": {}
                }
            ],
            "execution_count": 24
        },
        {
            "cell_type": "markdown",
            "source": "## Step 9: How fast is a rollback?\r\nSee if a rollback is any faster with ADR",
            "metadata": {}
        },
        {
            "cell_type": "code",
            "source": "-- Step 9: How fast is a rollback?\r\nROLLBACK TRAN\r\nGO",
            "metadata": {},
            "outputs": [
                {
                    "output_type": "display_data",
                    "data": {
                        "text/html": "Commands completed successfully."
                    },
                    "metadata": {}
                },
                {
                    "output_type": "display_data",
                    "data": {
                        "text/html": "Total execution time: 00:00:00.0014140"
                    },
                    "metadata": {}
                }
            ],
            "execution_count": 25
        }
    ]
}